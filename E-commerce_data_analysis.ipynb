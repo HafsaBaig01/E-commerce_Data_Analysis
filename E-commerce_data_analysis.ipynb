{
 "cells": [
  {
   "cell_type": "code",
   "execution_count": 1,
   "id": "657dd462",
   "metadata": {},
   "outputs": [],
   "source": [
    "import pandas as pd\n",
    "import matplotlib.pyplot as plt\n",
    "import seaborn as sns\n",
    "import mysql.connector \n",
    "import numpy as np\n",
    "db = mysql.connector.connect(host = 'localhost', username = 'root', password = 'root', database = 'ecommerce')\n",
    "cur = db.cursor()\n"
   ]
  },
  {
   "cell_type": "code",
   "execution_count": 5,
   "id": "58d4b971",
   "metadata": {},
   "outputs": [
    {
     "data": {
      "text/html": [
       "<div>\n",
       "<style scoped>\n",
       "    .dataframe tbody tr th:only-of-type {\n",
       "        vertical-align: middle;\n",
       "    }\n",
       "\n",
       "    .dataframe tbody tr th {\n",
       "        vertical-align: top;\n",
       "    }\n",
       "\n",
       "    .dataframe thead th {\n",
       "        text-align: right;\n",
       "    }\n",
       "</style>\n",
       "<table border=\"1\" class=\"dataframe\">\n",
       "  <thead>\n",
       "    <tr style=\"text-align: right;\">\n",
       "      <th></th>\n",
       "      <th>Customer_city</th>\n",
       "    </tr>\n",
       "  </thead>\n",
       "  <tbody>\n",
       "    <tr>\n",
       "      <th>0</th>\n",
       "      <td>franca</td>\n",
       "    </tr>\n",
       "    <tr>\n",
       "      <th>1</th>\n",
       "      <td>sao bernardo do campo</td>\n",
       "    </tr>\n",
       "    <tr>\n",
       "      <th>2</th>\n",
       "      <td>sao paulo</td>\n",
       "    </tr>\n",
       "    <tr>\n",
       "      <th>3</th>\n",
       "      <td>mogi das cruzes</td>\n",
       "    </tr>\n",
       "    <tr>\n",
       "      <th>4</th>\n",
       "      <td>campinas</td>\n",
       "    </tr>\n",
       "  </tbody>\n",
       "</table>\n",
       "</div>"
      ],
      "text/plain": [
       "           Customer_city\n",
       "0                 franca\n",
       "1  sao bernardo do campo\n",
       "2              sao paulo\n",
       "3        mogi das cruzes\n",
       "4               campinas"
      ]
     },
     "execution_count": 5,
     "metadata": {},
     "output_type": "execute_result"
    }
   ],
   "source": [
    "#list all unique cities where customers are located\n",
    "query = \"\"\"select distinct customer_city from customers\"\"\"\n",
    "cur.execute(query) #excecute query\n",
    "data = cur.fetchall() #fetching all data from query store in cursor\n",
    "df = pd.DataFrame(data,columns=[\"Customer_city\"])\n",
    "df.head()"
   ]
  },
  {
   "cell_type": "code",
   "execution_count": 6,
   "id": "740e013d",
   "metadata": {},
   "outputs": [
    {
     "data": {
      "text/plain": [
       "('Total orders are placed in 2017 are', 45101)"
      ]
     },
     "execution_count": 6,
     "metadata": {},
     "output_type": "execute_result"
    }
   ],
   "source": [
    "#count the number of orders placed in 2017\n",
    "query = \"\"\" select count(order_id) from orders where year(order_purchase_timestamp) = 2017 \"\"\"\n",
    "cur.execute(query) #excecute query\n",
    "data = cur.fetchall() #fetching all data from query store in cursor\n",
    "\"Total orders are placed in 2017 are\",data[0][0]"
   ]
  },
  {
   "cell_type": "code",
   "execution_count": 7,
   "id": "7b1fb953",
   "metadata": {},
   "outputs": [
    {
     "data": {
      "text/html": [
       "<div>\n",
       "<style scoped>\n",
       "    .dataframe tbody tr th:only-of-type {\n",
       "        vertical-align: middle;\n",
       "    }\n",
       "\n",
       "    .dataframe tbody tr th {\n",
       "        vertical-align: top;\n",
       "    }\n",
       "\n",
       "    .dataframe thead th {\n",
       "        text-align: right;\n",
       "    }\n",
       "</style>\n",
       "<table border=\"1\" class=\"dataframe\">\n",
       "  <thead>\n",
       "    <tr style=\"text-align: right;\">\n",
       "      <th></th>\n",
       "      <th>Category</th>\n",
       "      <th>Sales</th>\n",
       "    </tr>\n",
       "  </thead>\n",
       "  <tbody>\n",
       "    <tr>\n",
       "      <th>0</th>\n",
       "      <td>perfumery</td>\n",
       "      <td>506738.66</td>\n",
       "    </tr>\n",
       "    <tr>\n",
       "      <th>1</th>\n",
       "      <td>Furniture Decoration</td>\n",
       "      <td>1430176.39</td>\n",
       "    </tr>\n",
       "    <tr>\n",
       "      <th>2</th>\n",
       "      <td>telephony</td>\n",
       "      <td>486882.05</td>\n",
       "    </tr>\n",
       "    <tr>\n",
       "      <th>3</th>\n",
       "      <td>bed table bath</td>\n",
       "      <td>1712553.67</td>\n",
       "    </tr>\n",
       "    <tr>\n",
       "      <th>4</th>\n",
       "      <td>automotive</td>\n",
       "      <td>852294.33</td>\n",
       "    </tr>\n",
       "    <tr>\n",
       "      <th>...</th>\n",
       "      <td>...</td>\n",
       "      <td>...</td>\n",
       "    </tr>\n",
       "    <tr>\n",
       "      <th>69</th>\n",
       "      <td>cds music dvds</td>\n",
       "      <td>1199.43</td>\n",
       "    </tr>\n",
       "    <tr>\n",
       "      <th>70</th>\n",
       "      <td>La Cuisine</td>\n",
       "      <td>2913.53</td>\n",
       "    </tr>\n",
       "    <tr>\n",
       "      <th>71</th>\n",
       "      <td>Fashion Children's Clothing</td>\n",
       "      <td>785.67</td>\n",
       "    </tr>\n",
       "    <tr>\n",
       "      <th>72</th>\n",
       "      <td>PC Gamer</td>\n",
       "      <td>2174.43</td>\n",
       "    </tr>\n",
       "    <tr>\n",
       "      <th>73</th>\n",
       "      <td>insurance and services</td>\n",
       "      <td>324.51</td>\n",
       "    </tr>\n",
       "  </tbody>\n",
       "</table>\n",
       "<p>74 rows × 2 columns</p>\n",
       "</div>"
      ],
      "text/plain": [
       "                       Category       Sales\n",
       "0                     perfumery   506738.66\n",
       "1          Furniture Decoration  1430176.39\n",
       "2                     telephony   486882.05\n",
       "3                bed table bath  1712553.67\n",
       "4                    automotive   852294.33\n",
       "..                          ...         ...\n",
       "69               cds music dvds     1199.43\n",
       "70                   La Cuisine     2913.53\n",
       "71  Fashion Children's Clothing      785.67\n",
       "72                     PC Gamer     2174.43\n",
       "73       insurance and services      324.51\n",
       "\n",
       "[74 rows x 2 columns]"
      ]
     },
     "execution_count": 7,
     "metadata": {},
     "output_type": "execute_result"
    }
   ],
   "source": [
    "#find the total sales per category\n",
    "query = \"\"\" select products.product_category category, round(sum(payments.payment_value),2)\n",
    "sales\n",
    "from products join order_items\n",
    "on products.product_id = order_items.product_id\n",
    "join payments\n",
    "on payments.order_id = order_items.order_id \n",
    "group by category\"\"\"\n",
    "cur.execute(query) #excecute query\n",
    "data = cur.fetchall() #fetching all data from query store in cursor\n",
    "df=pd.DataFrame(data,columns = [\"Category\",\"Sales\"])\n",
    "df"
   ]
  },
  {
   "cell_type": "code",
   "execution_count": 8,
   "id": "68a91d3d",
   "metadata": {},
   "outputs": [
    {
     "data": {
      "text/plain": [
       "[(Decimal('99.9981'),)]"
      ]
     },
     "execution_count": 8,
     "metadata": {},
     "output_type": "execute_result"
    }
   ],
   "source": [
    "#calculate the percentage of orders that were paid in installments.\n",
    "query = \"\"\" select (sum(case when payment_installments>=1 then 1 else 0 end ))/count(*)*100 from payments \"\"\"\n",
    "cur.execute(query) #excecute query\n",
    "data = cur.fetchall() #fetching all data from query store in cursor\n",
    "data"
   ]
  },
  {
   "cell_type": "code",
   "execution_count": 9,
   "id": "735ed1a4",
   "metadata": {},
   "outputs": [
    {
     "data": {
      "image/png": "[encoded data removed]",
      "text/plain": [
       "<Figure size 648x216 with 1 Axes>"
      ]
     },
     "metadata": {
      "needs_background": "light"
     },
     "output_type": "display_data"
    }
   ],
   "source": [
    "#count the number of customers from each state.\n",
    "query = \"\"\"select customer_state, count(customer_id) from customers group by customer_state\"\"\"\n",
    "cur.execute(query)\n",
    "data = cur.fetchall()\n",
    "df = pd.DataFrame(data, columns= [\"States\", \"Count\"])\n",
    "df = df.sort_values(by = 'Count', ascending = False )\n",
    "plt.figure(figsize = (9,3))\n",
    "plt.bar(df['States'], df['Count'])\n",
    "plt.xticks(rotation = 90)\n",
    "plt.show()"
   ]
  },
  {
   "cell_type": "code",
   "execution_count": 10,
   "id": "7d4bcacf",
   "metadata": {},
   "outputs": [
    {
     "data": {
      "image/png": "[encoded data removed]",
      "text/plain": [
       "<Figure size 432x288 with 1 Axes>"
      ]
     },
     "metadata": {
      "needs_background": "light"
     },
     "output_type": "display_data"
    }
   ],
   "source": [
    "# Calculate the number of orders per month in 2018\n",
    "query = \"\"\"select monthname(order_purchase_timestamp) as monthname, count(order_id) as order_count\n",
    "           from orders \n",
    "           where year(order_purchase_timestamp) = 2018 \n",
    "           group by monthname\"\"\"\n",
    "cur.execute(query)\n",
    "data = cur.fetchall()\n",
    "\n",
    "# Convert to DataFrame\n",
    "df = pd.DataFrame(data, columns=[\"Months\", \"Count\"])\n",
    "\n",
    "# Define the correct month order\n",
    "order = [\"January\", \"February\", \"March\", \"April\", \"May\", \"June\", \"July\", \n",
    "         \"August\", \"September\", \"October\", \"November\", \"December\"]\n",
    "\n",
    "# Plot\n",
    "ax = sns.barplot(x=\"Months\", y=\"Count\", data=df, order=order)\n",
    "plt.xticks(rotation = 45)\n",
    "ax.bar_label(ax.containers[0])\n",
    "plt.title(\"Count of Orders by Months in 2018 \")\n",
    "plt.show()\n"
   ]
  },
  {
   "cell_type": "code",
   "execution_count": 11,
   "id": "97370ca6",
   "metadata": {},
   "outputs": [
    {
     "data": {
      "text/html": [
       "<div>\n",
       "<style scoped>\n",
       "    .dataframe tbody tr th:only-of-type {\n",
       "        vertical-align: middle;\n",
       "    }\n",
       "\n",
       "    .dataframe tbody tr th {\n",
       "        vertical-align: top;\n",
       "    }\n",
       "\n",
       "    .dataframe thead th {\n",
       "        text-align: right;\n",
       "    }\n",
       "</style>\n",
       "<table border=\"1\" class=\"dataframe\">\n",
       "  <thead>\n",
       "    <tr style=\"text-align: right;\">\n",
       "      <th></th>\n",
       "      <th>Customer_city</th>\n",
       "      <th>Average orders</th>\n",
       "    </tr>\n",
       "  </thead>\n",
       "  <tbody>\n",
       "    <tr>\n",
       "      <th>0</th>\n",
       "      <td>sao paulo</td>\n",
       "      <td>1.16</td>\n",
       "    </tr>\n",
       "    <tr>\n",
       "      <th>1</th>\n",
       "      <td>sao jose dos campos</td>\n",
       "      <td>1.14</td>\n",
       "    </tr>\n",
       "    <tr>\n",
       "      <th>2</th>\n",
       "      <td>porto alegre</td>\n",
       "      <td>1.17</td>\n",
       "    </tr>\n",
       "    <tr>\n",
       "      <th>3</th>\n",
       "      <td>indaial</td>\n",
       "      <td>1.12</td>\n",
       "    </tr>\n",
       "    <tr>\n",
       "      <th>4</th>\n",
       "      <td>treze tilias</td>\n",
       "      <td>1.27</td>\n",
       "    </tr>\n",
       "  </tbody>\n",
       "</table>\n",
       "</div>"
      ],
      "text/plain": [
       "         Customer_city Average orders\n",
       "0            sao paulo           1.16\n",
       "1  sao jose dos campos           1.14\n",
       "2         porto alegre           1.17\n",
       "3              indaial           1.12\n",
       "4         treze tilias           1.27"
      ]
     },
     "execution_count": 11,
     "metadata": {},
     "output_type": "execute_result"
    }
   ],
   "source": [
    "#Find the average number of products per order, grouped by customer city.\n",
    "query = \"\"\"with count_per_order as (\n",
    "    select orders.order_id, orders.customer_id, count(order_items.order_id) as os\n",
    "    from orders\n",
    "    join order_items on orders.order_id = order_items.order_id\n",
    "    group by orders.order_id, orders.customer_id\n",
    ")\n",
    "select customers.customer_city, round(avg(count_per_order.os), 2) as average_orders\n",
    "from customers\n",
    "join count_per_order on customers.customer_id = count_per_order.customer_id\n",
    "group by customers.customer_city;\n",
    "\"\"\"\n",
    "cur.execute(query)\n",
    "data = cur.fetchall()\n",
    "df = pd.DataFrame(data, columns = [\"Customer_city\",\"Average orders\"])\n",
    "df.head()"
   ]
  },
  {
   "cell_type": "code",
   "execution_count": 12,
   "id": "b806bd65",
   "metadata": {},
   "outputs": [
    {
     "data": {
      "text/html": [
       "<div>\n",
       "<style scoped>\n",
       "    .dataframe tbody tr th:only-of-type {\n",
       "        vertical-align: middle;\n",
       "    }\n",
       "\n",
       "    .dataframe tbody tr th {\n",
       "        vertical-align: top;\n",
       "    }\n",
       "\n",
       "    .dataframe thead th {\n",
       "        text-align: right;\n",
       "    }\n",
       "</style>\n",
       "<table border=\"1\" class=\"dataframe\">\n",
       "  <thead>\n",
       "    <tr style=\"text-align: right;\">\n",
       "      <th></th>\n",
       "      <th>Category</th>\n",
       "      <th>percentage_distribution</th>\n",
       "    </tr>\n",
       "  </thead>\n",
       "  <tbody>\n",
       "    <tr>\n",
       "      <th>0</th>\n",
       "      <td>bed table bath</td>\n",
       "      <td>10.70</td>\n",
       "    </tr>\n",
       "    <tr>\n",
       "      <th>1</th>\n",
       "      <td>HEALTH BEAUTY</td>\n",
       "      <td>10.35</td>\n",
       "    </tr>\n",
       "    <tr>\n",
       "      <th>2</th>\n",
       "      <td>computer accessories</td>\n",
       "      <td>9.90</td>\n",
       "    </tr>\n",
       "    <tr>\n",
       "      <th>3</th>\n",
       "      <td>Furniture Decoration</td>\n",
       "      <td>8.93</td>\n",
       "    </tr>\n",
       "    <tr>\n",
       "      <th>4</th>\n",
       "      <td>Watches present</td>\n",
       "      <td>8.93</td>\n",
       "    </tr>\n",
       "  </tbody>\n",
       "</table>\n",
       "</div>"
      ],
      "text/plain": [
       "               Category  percentage_distribution\n",
       "0        bed table bath                    10.70\n",
       "1         HEALTH BEAUTY                    10.35\n",
       "2  computer accessories                     9.90\n",
       "3  Furniture Decoration                     8.93\n",
       "4       Watches present                     8.93"
      ]
     },
     "execution_count": 12,
     "metadata": {},
     "output_type": "execute_result"
    }
   ],
   "source": [
    "#calculate the percentage of total revenue contributed by each product category.\n",
    "query = \"\"\" select products.product_category category, \n",
    "round((sum(payments.payment_value)/(select sum(payments.payment_value)from payments))*100,2) as sales_percentage\n",
    "from products join order_items\n",
    "on products.product_id = order_items.product_id\n",
    "join payments\n",
    "on payments.order_id = order_items.order_id \n",
    "group by category order by sales_percentage desc\"\"\"\n",
    "cur.execute(query)\n",
    "data = cur.fetchall()\n",
    "df=pd.DataFrame(data,columns = [\"Category\",\"percentage_distribution\"])\n",
    "df.head()"
   ]
  },
  {
   "cell_type": "code",
   "execution_count": 13,
   "id": "450d9aa6",
   "metadata": {
    "scrolled": false
   },
   "outputs": [
    {
     "data": {
      "text/html": [
       "<div>\n",
       "<style scoped>\n",
       "    .dataframe tbody tr th:only-of-type {\n",
       "        vertical-align: middle;\n",
       "    }\n",
       "\n",
       "    .dataframe tbody tr th {\n",
       "        vertical-align: top;\n",
       "    }\n",
       "\n",
       "    .dataframe thead th {\n",
       "        text-align: right;\n",
       "    }\n",
       "</style>\n",
       "<table border=\"1\" class=\"dataframe\">\n",
       "  <thead>\n",
       "    <tr style=\"text-align: right;\">\n",
       "      <th></th>\n",
       "      <th>Product_Category</th>\n",
       "      <th>Count</th>\n",
       "      <th>Price</th>\n",
       "    </tr>\n",
       "  </thead>\n",
       "  <tbody>\n",
       "    <tr>\n",
       "      <th>0</th>\n",
       "      <td>HEALTH BEAUTY</td>\n",
       "      <td>9670</td>\n",
       "      <td>130.16</td>\n",
       "    </tr>\n",
       "    <tr>\n",
       "      <th>1</th>\n",
       "      <td>sport leisure</td>\n",
       "      <td>8641</td>\n",
       "      <td>114.34</td>\n",
       "    </tr>\n",
       "    <tr>\n",
       "      <th>2</th>\n",
       "      <td>Cool Stuff</td>\n",
       "      <td>3796</td>\n",
       "      <td>167.36</td>\n",
       "    </tr>\n",
       "    <tr>\n",
       "      <th>3</th>\n",
       "      <td>computer accessories</td>\n",
       "      <td>7827</td>\n",
       "      <td>116.51</td>\n",
       "    </tr>\n",
       "    <tr>\n",
       "      <th>4</th>\n",
       "      <td>Watches present</td>\n",
       "      <td>5991</td>\n",
       "      <td>201.14</td>\n",
       "    </tr>\n",
       "  </tbody>\n",
       "</table>\n",
       "</div>"
      ],
      "text/plain": [
       "       Product_Category  Count   Price\n",
       "0         HEALTH BEAUTY   9670  130.16\n",
       "1         sport leisure   8641  114.34\n",
       "2            Cool Stuff   3796  167.36\n",
       "3  computer accessories   7827  116.51\n",
       "4       Watches present   5991  201.14"
      ]
     },
     "execution_count": 13,
     "metadata": {},
     "output_type": "execute_result"
    }
   ],
   "source": [
    "#identify the correlation between product price and the number of times a product has been purchased.\n",
    "query = \"\"\"select products.product_category, count(order_items.product_id) as Count, round(avg(order_items.price),2) as Average from products\n",
    "join order_items on products.product_id = order_items.product_id\n",
    "group by products.product_category;\n",
    "\"\"\"\n",
    "cur.execute(query)\n",
    "data = cur.fetchall()\n",
    "df = pd.DataFrame(data,columns = [\"Product_Category\",\"Count\",\"Price\"])\n",
    "df.head()"
   ]
  },
  {
   "cell_type": "code",
   "execution_count": 14,
   "id": "1ccc5e17",
   "metadata": {},
   "outputs": [
    {
     "name": "stdout",
     "output_type": "stream",
     "text": [
      "The correlation between price and number of times a product has been purchased: \n",
      " -0.10631514167157562\n"
     ]
    }
   ],
   "source": [
    "#correlation between price and product count\n",
    "product = df['Count']\n",
    "price = df['Price']\n",
    "a = np.corrcoef([product,price])\n",
    "#there is neutral relation between count and price there is no impact \n",
    "print(\"The correlation between price and number of times a product has been purchased: \\n\",a[0][-1])"
   ]
  },
  {
   "cell_type": "code",
   "execution_count": 20,
   "id": "09d83d84",
   "metadata": {
    "scrolled": true
   },
   "outputs": [],
   "source": [
    "query = \"\"\"\n",
    "SELECT *, \n",
    "       DENSE_RANK() OVER(ORDER BY revenue DESC) AS ranks\n",
    "FROM (\n",
    "    SELECT order_items.seller_id, \n",
    "           SUM(payments.payment_value) AS revenue \n",
    "    FROM order_items\n",
    "    JOIN payments ON order_items.order_id = payments.order_id\n",
    "    GROUP BY order_items.seller_id\n",
    ") AS a;\n",
    "\"\"\"\n",
    "\n",
    "# Execute the query\n",
    "cur.execute(query)\n",
    "data = cur.fetchall()\n",
    "\n",
    "# Optional: Display data using Pandas\n",
    "df = pd.DataFrame(data, columns = [\"Seller_ID\",\"Revenue\",\"Rank\"])\n",
    "df = df.head()\n"
   ]
  },
  {
   "cell_type": "code",
   "execution_count": 23,
   "id": "ddca1879",
   "metadata": {},
   "outputs": [
    {
     "data": {
      "image/png": "[encoded data removed]",
      "text/plain": [
       "<Figure size 432x288 with 1 Axes>"
      ]
     },
     "metadata": {
      "needs_background": "light"
     },
     "output_type": "display_data"
    }
   ],
   "source": [
    "sns.barplot(y = \"Seller_ID\", x=\"Revenue\",data=df)\n",
    "plt.xticks(rotation=45)\n",
    "plt.show ()"
   ]
  },
  {
   "cell_type": "code",
   "execution_count": 27,
   "id": "28b48651",
   "metadata": {},
   "outputs": [
    {
     "data": {
      "text/html": [
       "<div>\n",
       "<style scoped>\n",
       "    .dataframe tbody tr th:only-of-type {\n",
       "        vertical-align: middle;\n",
       "    }\n",
       "\n",
       "    .dataframe tbody tr th {\n",
       "        vertical-align: top;\n",
       "    }\n",
       "\n",
       "    .dataframe thead th {\n",
       "        text-align: right;\n",
       "    }\n",
       "</style>\n",
       "<table border=\"1\" class=\"dataframe\">\n",
       "  <thead>\n",
       "    <tr style=\"text-align: right;\">\n",
       "      <th></th>\n",
       "      <th>customer_id</th>\n",
       "      <th>TimeStamp</th>\n",
       "      <th>Price</th>\n",
       "      <th>Mov_avg</th>\n",
       "    </tr>\n",
       "  </thead>\n",
       "  <tbody>\n",
       "    <tr>\n",
       "      <th>0</th>\n",
       "      <td>00012a2ce6f8dcda20d059ce98491703</td>\n",
       "      <td>2017-11-14 16:08:26</td>\n",
       "      <td>114.74</td>\n",
       "      <td>114.739998</td>\n",
       "    </tr>\n",
       "    <tr>\n",
       "      <th>1</th>\n",
       "      <td>000161a058600d5901f007fab4c27140</td>\n",
       "      <td>2017-07-16 09:40:32</td>\n",
       "      <td>67.41</td>\n",
       "      <td>67.410004</td>\n",
       "    </tr>\n",
       "    <tr>\n",
       "      <th>2</th>\n",
       "      <td>0001fd6190edaaf884bcaf3d49edf079</td>\n",
       "      <td>2017-02-28 11:06:43</td>\n",
       "      <td>195.42</td>\n",
       "      <td>195.419998</td>\n",
       "    </tr>\n",
       "    <tr>\n",
       "      <th>3</th>\n",
       "      <td>0002414f95344307404f0ace7a26f1d5</td>\n",
       "      <td>2017-08-16 13:09:20</td>\n",
       "      <td>179.35</td>\n",
       "      <td>179.350006</td>\n",
       "    </tr>\n",
       "    <tr>\n",
       "      <th>4</th>\n",
       "      <td>000379cdec625522490c315e70c7a9fb</td>\n",
       "      <td>2018-04-02 13:42:17</td>\n",
       "      <td>107.01</td>\n",
       "      <td>107.010002</td>\n",
       "    </tr>\n",
       "  </tbody>\n",
       "</table>\n",
       "</div>"
      ],
      "text/plain": [
       "                        customer_id            TimeStamp   Price     Mov_avg\n",
       "0  00012a2ce6f8dcda20d059ce98491703  2017-11-14 16:08:26  114.74  114.739998\n",
       "1  000161a058600d5901f007fab4c27140  2017-07-16 09:40:32   67.41   67.410004\n",
       "2  0001fd6190edaaf884bcaf3d49edf079  2017-02-28 11:06:43  195.42  195.419998\n",
       "3  0002414f95344307404f0ace7a26f1d5  2017-08-16 13:09:20  179.35  179.350006\n",
       "4  000379cdec625522490c315e70c7a9fb  2018-04-02 13:42:17  107.01  107.010002"
      ]
     },
     "execution_count": 27,
     "metadata": {},
     "output_type": "execute_result"
    }
   ],
   "source": [
    "#calculate the moving average of order values for each customer over their order history.\n",
    "query=\"\"\" select customer_id,order_purchase_timestamp, payment,\n",
    "avg(payment) over(partition by customer_id order by order_purchase_timestamp\n",
    "rows between 2 preceding and current row) as mov_avg\n",
    "from\n",
    "(select orders.customer_id,orders.order_purchase_timestamp, \n",
    "payments.payment_value as payment from orders join payments\n",
    "on orders.order_id = payments.order_id) as a;\"\"\"\n",
    "cur.execute(query)\n",
    "data = cur.fetchall()\n",
    "df=pd.DataFrame(data,columns=[\"customer_id\",\"TimeStamp\",\"Price\",\"Mov_avg\"])\n",
    "df.head()"
   ]
  },
  {
   "cell_type": "code",
   "execution_count": 2,
   "id": "746ca6f1",
   "metadata": {},
   "outputs": [],
   "source": [
    "#Calculate The cumulative sales per month for each year.\n",
    "query=\"\"\" select years, months, monthly_sales, sum(monthly_sales) over (order by years,months) as cumulative_sales\n",
    "from\n",
    "(SELECT YEAR(orders.order_purchase_timestamp) AS years, \n",
    "MONTH(orders.order_purchase_timestamp) AS months,\n",
    "ROUND(SUM(payments.payment_value), 2) AS monthly_sales\n",
    "FROM orders JOIN payments ON orders.order_id = payments.order_id\n",
    "GROUP BY YEAR(orders.order_purchase_timestamp) , MONTH(orders.order_purchase_timestamp)\n",
    "ORDER BY years , months) as a;\n",
    "\"\"\"\n",
    "cur.execute(query)\n",
    "data = cur.fetchall()\n",
    "df=pd.DataFrame(data, columns = [\"Years\",\"Months\",\"Monthly_Sales\",\"Cumulative_sales\"])\n",
    "df = df.head()"
   ]
  },
  {
   "cell_type": "code",
   "execution_count": 3,
   "id": "05c4b515",
   "metadata": {},
   "outputs": [
    {
     "data": {
      "image/png": "[encoded data removed]",
      "text/plain": [
       "<Figure size 864x432 with 1 Axes>"
      ]
     },
     "metadata": {
      "needs_background": "light"
     },
     "output_type": "display_data"
    }
   ],
   "source": [
    "df['Date'] = pd.to_datetime(df[['Years', 'Months']].assign(DAY=1))\n",
    "\n",
    "plt.figure(figsize=(12,6))\n",
    "plt.fill_between(df['Date'], df['Cumulative_sales'], color=\"skyblue\", alpha=0.4)\n",
    "plt.plot(df['Date'], df['Cumulative_sales'], color=\"Slateblue\", alpha=0.6, label='Cumulative Sales')\n",
    "\n",
    "plt.xlabel('Date')\n",
    "plt.ylabel('Cumulative Sales')\n",
    "plt.title('Cumulative Sales Over Time')\n",
    "plt.legend()\n",
    "plt.xticks(rotation=45)\n",
    "plt.show()"
   ]
  },
  {
   "cell_type": "code",
   "execution_count": 7,
   "id": "a3cb2c5f",
   "metadata": {},
   "outputs": [
    {
     "data": {
      "text/html": [
       "<div>\n",
       "<style scoped>\n",
       "    .dataframe tbody tr th:only-of-type {\n",
       "        vertical-align: middle;\n",
       "    }\n",
       "\n",
       "    .dataframe tbody tr th {\n",
       "        vertical-align: top;\n",
       "    }\n",
       "\n",
       "    .dataframe thead th {\n",
       "        text-align: right;\n",
       "    }\n",
       "</style>\n",
       "<table border=\"1\" class=\"dataframe\">\n",
       "  <thead>\n",
       "    <tr style=\"text-align: right;\">\n",
       "      <th></th>\n",
       "      <th>Years</th>\n",
       "      <th>Total_sales</th>\n",
       "      <th>Previous_year_sales</th>\n",
       "      <th>Growth_rate</th>\n",
       "    </tr>\n",
       "  </thead>\n",
       "  <tbody>\n",
       "    <tr>\n",
       "      <th>0</th>\n",
       "      <td>2016</td>\n",
       "      <td>59362.34</td>\n",
       "      <td>NaN</td>\n",
       "      <td>NaN</td>\n",
       "    </tr>\n",
       "    <tr>\n",
       "      <th>1</th>\n",
       "      <td>2017</td>\n",
       "      <td>7249746.73</td>\n",
       "      <td>59362.34</td>\n",
       "      <td>12112.7</td>\n",
       "    </tr>\n",
       "    <tr>\n",
       "      <th>2</th>\n",
       "      <td>2018</td>\n",
       "      <td>8699763.05</td>\n",
       "      <td>7249746.73</td>\n",
       "      <td>20.0</td>\n",
       "    </tr>\n",
       "  </tbody>\n",
       "</table>\n",
       "</div>"
      ],
      "text/plain": [
       "   Years  Total_sales  Previous_year_sales  Growth_rate\n",
       "0   2016     59362.34                  NaN          NaN\n",
       "1   2017   7249746.73             59362.34      12112.7\n",
       "2   2018   8699763.05           7249746.73         20.0"
      ]
     },
     "execution_count": 7,
     "metadata": {},
     "output_type": "execute_result"
    }
   ],
   "source": [
    "query = \"\"\"\n",
    "SELECT \n",
    "    year,\n",
    "    total_sales,\n",
    "    LAG(total_sales) OVER (ORDER BY year) AS previous_year_sales,\n",
    "    ROUND(\n",
    "        (total_sales - LAG(total_sales) OVER (ORDER BY year)) / LAG(total_sales) OVER (ORDER BY year) * 100,\n",
    "        2\n",
    "    ) AS growth_rate\n",
    "FROM \n",
    "    (\n",
    "        SELECT \n",
    "            YEAR(orders.order_purchase_timestamp) AS year,\n",
    "            ROUND(SUM(payments.payment_value), 2) AS total_sales\n",
    "        FROM \n",
    "            orders \n",
    "        JOIN \n",
    "            payments ON orders.order_id = payments.order_id\n",
    "        GROUP BY \n",
    "            YEAR(orders.order_purchase_timestamp)\n",
    "    ) AS yearly_sales\n",
    "ORDER BY \n",
    "    year;\n",
    "\"\"\"\n",
    "\n",
    "cur.execute(query)\n",
    "data = cur.fetchall()\n",
    "df = pd.DataFrame(data, columns=[\"Years\", \"Total_sales\", \"Previous_year_sales\", \"Growth_rate\"])\n",
    "df\n"
   ]
  },
  {
   "cell_type": "code",
   "execution_count": 12,
   "id": "e9b37be3",
   "metadata": {},
   "outputs": [
    {
     "data": {
      "image/png": "[encoded data removed]",
      "text/plain": [
       "<Figure size 720x432 with 2 Axes>"
      ]
     },
     "metadata": {
      "needs_background": "light"
     },
     "output_type": "display_data"
    }
   ],
   "source": [
    "fig, ax1 = plt.subplots(figsize=(10, 6))\n",
    "\n",
    "# Bar plot for growth rate\n",
    "ax1.bar(df['Years'], df['Growth_rate'], color='skyblue', label='Growth Rate (%)')\n",
    "ax1.set_xlabel('Year')\n",
    "ax1.set_ylabel('Growth Rate (%)')\n",
    "ax1.legend(loc=\"upper left\")\n",
    "\n",
    "# Line plot for total sales\n",
    "ax2 = ax1.twinx()\n",
    "ax2.plot(df['Years'], df['Total_sales'], color='b', marker='o', linestyle='-', label='Total Sales')\n",
    "ax2.set_ylabel('Total Sales')\n",
    "ax2.legend(loc=\"upper right\")\n",
    "\n",
    "fig.suptitle('Yearly Growth Rate and Total Sales')\n",
    "plt.show()\n"
   ]
  },
  {
   "cell_type": "code",
   "execution_count": 18,
   "id": "2b3ebeac",
   "metadata": {},
   "outputs": [
    {
     "data": {
      "text/html": [
       "<div>\n",
       "<style scoped>\n",
       "    .dataframe tbody tr th:only-of-type {\n",
       "        vertical-align: middle;\n",
       "    }\n",
       "\n",
       "    .dataframe tbody tr th {\n",
       "        vertical-align: top;\n",
       "    }\n",
       "\n",
       "    .dataframe thead th {\n",
       "        text-align: right;\n",
       "    }\n",
       "</style>\n",
       "<table border=\"1\" class=\"dataframe\">\n",
       "  <thead>\n",
       "    <tr style=\"text-align: right;\">\n",
       "      <th></th>\n",
       "      <th>0</th>\n",
       "    </tr>\n",
       "  </thead>\n",
       "  <tbody>\n",
       "    <tr>\n",
       "      <th>0</th>\n",
       "      <td>None</td>\n",
       "    </tr>\n",
       "  </tbody>\n",
       "</table>\n",
       "</div>"
      ],
      "text/plain": [
       "      0\n",
       "0  None"
      ]
     },
     "execution_count": 18,
     "metadata": {},
     "output_type": "execute_result"
    }
   ],
   "source": [
    "#Calculate the retention rate of customes, defined as the percentage of customers who make another purchase within 6 month of thier first purchase\n",
    "\n",
    "query = \"\"\"\n",
    "WITH first_order AS (\n",
    "    SELECT \n",
    "        customers.customer_id,\n",
    "        MIN(orders.order_purchase_timestamp) AS first_order\n",
    "    FROM \n",
    "        customers \n",
    "    JOIN \n",
    "        orders ON customers.customer_id = orders.customer_id \n",
    "    GROUP BY \n",
    "        customers.customer_id\n",
    "),\n",
    "next_order AS (\n",
    "    SELECT \n",
    "        a.customer_id,\n",
    "        COUNT(DISTINCT orders.order_purchase_timestamp) AS next_order\n",
    "    FROM \n",
    "        first_order AS a\n",
    "    JOIN \n",
    "        orders ON orders.customer_id = a.customer_id \n",
    "        AND orders.order_purchase_timestamp > a.first_order\n",
    "        AND orders.order_purchase_timestamp < DATE_ADD(a.first_order, INTERVAL 6 MONTH)\n",
    "    GROUP BY \n",
    "        a.customer_id\n",
    ")\n",
    "SELECT \n",
    "    100 * (COUNT(DISTINCT a.customer_id) / COUNT(DISTINCT b.customer_id)) AS percentage\n",
    "FROM \n",
    "    first_order AS a\n",
    "LEFT JOIN \n",
    "    next_order AS b ON a.customer_id = b.customer_id;\n",
    "\"\"\"\n",
    "\n",
    "cur.execute(query)\n",
    "data = cur.fetchall()\n",
    "df = pd.DataFrame(data )\n",
    "df"
   ]
  },
  {
   "cell_type": "code",
   "execution_count": 23,
   "id": "6f02927c",
   "metadata": {},
   "outputs": [
    {
     "data": {
      "text/html": [
       "<div>\n",
       "<style scoped>\n",
       "    .dataframe tbody tr th:only-of-type {\n",
       "        vertical-align: middle;\n",
       "    }\n",
       "\n",
       "    .dataframe tbody tr th {\n",
       "        vertical-align: top;\n",
       "    }\n",
       "\n",
       "    .dataframe thead th {\n",
       "        text-align: right;\n",
       "    }\n",
       "</style>\n",
       "<table border=\"1\" class=\"dataframe\">\n",
       "  <thead>\n",
       "    <tr style=\"text-align: right;\">\n",
       "      <th></th>\n",
       "      <th>Year</th>\n",
       "      <th>Customer_ID</th>\n",
       "      <th>Payment</th>\n",
       "      <th>Ranks</th>\n",
       "    </tr>\n",
       "  </thead>\n",
       "  <tbody>\n",
       "    <tr>\n",
       "      <th>0</th>\n",
       "      <td>2016</td>\n",
       "      <td>a9dc96b027d1252bbac0a9b72d837fc6</td>\n",
       "      <td>1423.55</td>\n",
       "      <td>1</td>\n",
       "    </tr>\n",
       "    <tr>\n",
       "      <th>1</th>\n",
       "      <td>2016</td>\n",
       "      <td>1d34ed25963d5aae4cf3d7f3a4cda173</td>\n",
       "      <td>1400.74</td>\n",
       "      <td>2</td>\n",
       "    </tr>\n",
       "    <tr>\n",
       "      <th>2</th>\n",
       "      <td>2016</td>\n",
       "      <td>4a06381959b6670756de02e07b83815f</td>\n",
       "      <td>1227.78</td>\n",
       "      <td>3</td>\n",
       "    </tr>\n",
       "    <tr>\n",
       "      <th>3</th>\n",
       "      <td>2017</td>\n",
       "      <td>1617b1357756262bfa56ab541c47bc16</td>\n",
       "      <td>13664.08</td>\n",
       "      <td>1</td>\n",
       "    </tr>\n",
       "    <tr>\n",
       "      <th>4</th>\n",
       "      <td>2017</td>\n",
       "      <td>c6e2731c5b391845f6800c97401a43a9</td>\n",
       "      <td>6929.31</td>\n",
       "      <td>2</td>\n",
       "    </tr>\n",
       "    <tr>\n",
       "      <th>5</th>\n",
       "      <td>2017</td>\n",
       "      <td>3fd6777bbce08a352fddd04e4a7cc8f6</td>\n",
       "      <td>6726.66</td>\n",
       "      <td>3</td>\n",
       "    </tr>\n",
       "    <tr>\n",
       "      <th>6</th>\n",
       "      <td>2018</td>\n",
       "      <td>ec5b2ba62e574342386871631fafd3fc</td>\n",
       "      <td>7274.88</td>\n",
       "      <td>1</td>\n",
       "    </tr>\n",
       "    <tr>\n",
       "      <th>7</th>\n",
       "      <td>2018</td>\n",
       "      <td>f48d464a0baaea338cb25f816991ab1f</td>\n",
       "      <td>6922.21</td>\n",
       "      <td>2</td>\n",
       "    </tr>\n",
       "    <tr>\n",
       "      <th>8</th>\n",
       "      <td>2018</td>\n",
       "      <td>e0a2412720e9ea4f26c1ac985f6a7358</td>\n",
       "      <td>4809.44</td>\n",
       "      <td>3</td>\n",
       "    </tr>\n",
       "  </tbody>\n",
       "</table>\n",
       "</div>"
      ],
      "text/plain": [
       "   Year                       Customer_ID   Payment  Ranks\n",
       "0  2016  a9dc96b027d1252bbac0a9b72d837fc6   1423.55      1\n",
       "1  2016  1d34ed25963d5aae4cf3d7f3a4cda173   1400.74      2\n",
       "2  2016  4a06381959b6670756de02e07b83815f   1227.78      3\n",
       "3  2017  1617b1357756262bfa56ab541c47bc16  13664.08      1\n",
       "4  2017  c6e2731c5b391845f6800c97401a43a9   6929.31      2\n",
       "5  2017  3fd6777bbce08a352fddd04e4a7cc8f6   6726.66      3\n",
       "6  2018  ec5b2ba62e574342386871631fafd3fc   7274.88      1\n",
       "7  2018  f48d464a0baaea338cb25f816991ab1f   6922.21      2\n",
       "8  2018  e0a2412720e9ea4f26c1ac985f6a7358   4809.44      3"
      ]
     },
     "execution_count": 23,
     "metadata": {},
     "output_type": "execute_result"
    }
   ],
   "source": [
    "#identify the top 3 customers who spent the most money in each year.\n",
    "query = \"\"\"\n",
    "SELECT \n",
    "    year,\n",
    "    customer_id,\n",
    "    payment,\n",
    "    ranks\n",
    "FROM \n",
    "    (\n",
    "        SELECT \n",
    "            YEAR(orders.order_purchase_timestamp) AS year,\n",
    "            orders.customer_id,\n",
    "            ROUND(SUM(payments.payment_value), 2) AS payment,\n",
    "            DENSE_RANK() OVER(PARTITION BY YEAR(orders.order_purchase_timestamp) \n",
    "                              ORDER BY SUM(payments.payment_value) DESC) AS ranks\n",
    "        FROM \n",
    "            orders\n",
    "        JOIN \n",
    "            payments ON orders.order_id = payments.order_id\n",
    "        GROUP BY \n",
    "            year, orders.customer_id\n",
    "    ) AS a\n",
    "WHERE \n",
    "    ranks <= 3;\n",
    "\"\"\"\n",
    "\n",
    "cur.execute(query)\n",
    "data = cur.fetchall()\n",
    "df = pd.DataFrame(data, columns=[\"Year\", \"Customer_ID\", \"Payment\", \"Ranks\"])\n",
    "df\n"
   ]
  },
  {
   "cell_type": "code",
   "execution_count": 31,
   "id": "b858c239",
   "metadata": {},
   "outputs": [
    {
     "data": {
      "image/png": "[encoded data removed]",
      "text/plain": [
       "<Figure size 720x432 with 2 Axes>"
      ]
     },
     "metadata": {
      "needs_background": "light"
     },
     "output_type": "display_data"
    }
   ],
   "source": [
    "import seaborn as sns\n",
    "import matplotlib.pyplot as plt\n",
    "\n",
    "# Assuming df is your DataFrame and it’s pivoted for the heatmap\n",
    "pivot_df = df.pivot('Customer_ID', 'Year', 'Payment')\n",
    "\n",
    "plt.figure(figsize=(10, 6))\n",
    "\n",
    "sns.heatmap(pivot_df, annot=True, cmap=\"Pastel1\", fmt=\".2f\", cbar_kws={'label': 'Spending'}, linewidths=0.5)\n",
    "\n",
    "plt.title('Top 3 Customers Spending Heatmap', fontsize=16, fontweight='bold', color='slategray')\n",
    "plt.xlabel('Year', fontsize=12)\n",
    "plt.ylabel('Customer ID', fontsize=12)\n",
    "plt.xticks(rotation=0)\n",
    "plt.yticks(rotation=0)\n",
    "plt.show()\n"
   ]
  },
  {
   "cell_type": "code",
   "execution_count": null,
   "id": "c88bfea8",
   "metadata": {},
   "outputs": [],
   "source": []
  }
 ],
 "metadata": {
  "kernelspec": {
   "display_name": "Python 3 (ipykernel)",
   "language": "python",
   "name": "python3"
  },
  "language_info": {
   "codemirror_mode": {
    "name": "ipython",
    "version": 3
   },
   "file_extension": ".py",
   "mimetype": "text/x-python",
   "name": "python",
   "nbconvert_exporter": "python",
   "pygments_lexer": "ipython3",
   "version": "3.9.12"
  }
 },
 "nbformat": 4,
 "nbformat_minor": 5
}
